import tensorflow as tf
from tensorflow.keras.applications.vgg16 import VGG16
from tensorflow.keras.preprocessing import image
from tensorflow.keras.applications.vgg16 import preprocess_input
import numpy as np
from tensorflow.keras.layers import Input, Conv2D, MaxPooling2D, UpSampling2D, ConvLSTM2D, TimeDistributed
from tensorflow.keras.layers import Dense, Flatten
from tensorflow.keras.models import Model

### modified VGG16

_input = Input((224,224,1)) 

conv1  = Conv2D(filters=64, kernel_size=(3,3), padding="same", activation="relu")(_input)
conv2  = Conv2D(filters=64, kernel_size=(3,3), padding="same", activation="relu")(conv1)
pool1  = MaxPooling2D((2, 2))(conv2)

conv3  = Conv2D(filters=128, kernel_size=(3,3), padding="same", activation="relu")(pool1)
conv4  = Conv2D(filters=128, kernel_size=(3,3), padding="same", activation="relu")(conv3)
pool2  = MaxPooling2D((2, 2))(conv4)
pool_1 = MaxPooling2D((2, 2))(pool2)
conv_1  = Conv2D(filters=512, kernel_size=(3,3), padding="same", activation="relu")(pool_1)

conv5  = Conv2D(filters=256, kernel_size=(3,3), padding="same", activation="relu")(pool2)
conv6  = Conv2D(filters=256, kernel_size=(3,3), padding="same", activation="relu")(conv5)
conv7  = Conv2D(filters=256, kernel_size=(3,3), padding="same", activation="relu")(conv6)
pool3  = MaxPooling2D((2, 2))(conv7)
conv_2  = Conv2D(filters=512, kernel_size=(3,3), padding="same", activation="relu")(pool3)

conv8  = Conv2D(filters=512, kernel_size=(3,3), padding="same", activation="relu")(pool3)
conv9  = Conv2D(filters=512, kernel_size=(3,3), padding="same", activation="relu")(conv8)
conv10 = Conv2D(filters=512, kernel_size=(3,3), padding="same", activation="relu")(conv9)
pool4  = MaxPooling2D((2, 2))(conv10)
conv_3 = Conv2D(filters=512, kernel_size=(3,3), padding="same", activation="relu")(conv10)

conv11 = Conv2D(filters=512, kernel_size=(3,3), padding="same", activation="relu")(pool4)
conv12 = Conv2D(filters=512, kernel_size=(3,3), padding="same", activation="relu")(conv11)
conv13 = Conv2D(filters=512, kernel_size=(3,3), padding="same", activation="relu")(conv12)
pool5  = MaxPooling2D((2, 2))(conv13)
conv_4 = Conv2D(filters=512, kernel_size=(3,3), padding="same", activation="relu")(conv13)
up_1 = UpSampling2D(size=(2, 2))(conv_4)

fused = tf.keras.layers.add([conv_1, conv_2, conv_3, up_1])

output = Conv2D(filters=128, kernel_size=(3,3), padding="same", activation="relu")(fused)

vgg16_model  = Model(inputs=_input, outputs=output)


'''
Model: "model_5"
__________________________________________________________________________________________________
Layer (type)                    Output Shape         Param #     Connected to                     
==================================================================================================
input_10 (InputLayer)           [(None, 224, 224, 1) 0                                            
__________________________________________________________________________________________________
conv2d_134 (Conv2D)             (None, 224, 224, 64) 640         input_10[0][0]                   
__________________________________________________________________________________________________
conv2d_135 (Conv2D)             (None, 224, 224, 64) 36928       conv2d_134[0][0]                 
__________________________________________________________________________________________________
max_pooling2d_47 (MaxPooling2D) (None, 112, 112, 64) 0           conv2d_135[0][0]                 
__________________________________________________________________________________________________
conv2d_136 (Conv2D)             (None, 112, 112, 128 73856       max_pooling2d_47[0][0]           
__________________________________________________________________________________________________
conv2d_137 (Conv2D)             (None, 112, 112, 128 147584      conv2d_136[0][0]                 
__________________________________________________________________________________________________
max_pooling2d_48 (MaxPooling2D) (None, 56, 56, 128)  0           conv2d_137[0][0]                 
__________________________________________________________________________________________________
conv2d_139 (Conv2D)             (None, 56, 56, 256)  295168      max_pooling2d_48[0][0]           
__________________________________________________________________________________________________
conv2d_140 (Conv2D)             (None, 56, 56, 256)  590080      conv2d_139[0][0]                 
__________________________________________________________________________________________________
conv2d_141 (Conv2D)             (None, 56, 56, 256)  590080      conv2d_140[0][0]                 
__________________________________________________________________________________________________
max_pooling2d_50 (MaxPooling2D) (None, 28, 28, 256)  0           conv2d_141[0][0]                 
__________________________________________________________________________________________________
conv2d_143 (Conv2D)             (None, 28, 28, 512)  1180160     max_pooling2d_50[0][0]           
__________________________________________________________________________________________________
conv2d_144 (Conv2D)             (None, 28, 28, 512)  2359808     conv2d_143[0][0]                 
__________________________________________________________________________________________________
conv2d_145 (Conv2D)             (None, 28, 28, 512)  2359808     conv2d_144[0][0]                 
__________________________________________________________________________________________________
max_pooling2d_51 (MaxPooling2D) (None, 14, 14, 512)  0           conv2d_145[0][0]                 
__________________________________________________________________________________________________
conv2d_147 (Conv2D)             (None, 14, 14, 512)  2359808     max_pooling2d_51[0][0]           
__________________________________________________________________________________________________
conv2d_148 (Conv2D)             (None, 14, 14, 512)  2359808     conv2d_147[0][0]                 
__________________________________________________________________________________________________
conv2d_149 (Conv2D)             (None, 14, 14, 512)  2359808     conv2d_148[0][0]                 
__________________________________________________________________________________________________
max_pooling2d_49 (MaxPooling2D) (None, 28, 28, 128)  0           max_pooling2d_48[0][0]           
__________________________________________________________________________________________________
conv2d_150 (Conv2D)             (None, 14, 14, 512)  2359808     conv2d_149[0][0]                 
__________________________________________________________________________________________________
conv2d_138 (Conv2D)             (None, 28, 28, 512)  590336      max_pooling2d_49[0][0]           
__________________________________________________________________________________________________
conv2d_142 (Conv2D)             (None, 28, 28, 512)  1180160     max_pooling2d_50[0][0]           
__________________________________________________________________________________________________
conv2d_146 (Conv2D)             (None, 28, 28, 512)  2359808     conv2d_145[0][0]                 
__________________________________________________________________________________________________
up_sampling2d_7 (UpSampling2D)  (None, 28, 28, 512)  0           conv2d_150[0][0]                 
__________________________________________________________________________________________________
add (Add)                       (None, 28, 28, 512)  0           conv2d_138[0][0]                 
                                                                 conv2d_142[0][0]                 
                                                                 conv2d_146[0][0]                 
                                                                 up_sampling2d_7[0][0]            
__________________________________________________________________________________________________
conv2d_151 (Conv2D)             (None, 28, 28, 128)  589952      add[0][0]                        
==================================================================================================
Total params: 21,793,600
Trainable params: 21,793,600
Non-trainable params: 0
__________________________________________________________________________________________________
'''

model = tf.keras.Sequential()
model.add(vgg16_model)
model.add(ConvLSTM2D(filters=64, kernel_size=(3,3), activation='relu', input_shape=(1, vgg16_model.output_shape[0], vgg16_model.output_shape[1], vgg16_model.output_shape[2], vgg16_model.output_shape[3]), return_sequences = True))
model.add(ConvLSTM2D(filters=16, kernel_size=(3,3), activation='relu', return_sequences = False))
model.add(Dropout(0.5))
model.add(Flatten())
model.add(Dense(100, activation='relu'))
model.add(TimeDistributed(Dense(n_outputs, activation='softmax')))  
